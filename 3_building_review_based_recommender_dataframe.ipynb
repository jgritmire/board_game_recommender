{
 "cells": [
  {
   "cell_type": "code",
   "execution_count": 31,
   "id": "57288cf3",
   "metadata": {
    "ExecuteTime": {
     "end_time": "2023-04-10T19:05:57.949390Z",
     "start_time": "2023-04-10T19:05:57.928446Z"
    }
   },
   "outputs": [],
   "source": [
    "import pandas as pd\n",
    "import numpy as np\n",
    "\n",
    "from sklearn.metrics.pairwise import (cosine_similarity, \n",
    "                                        euclidean_distances, \n",
    "                                        cosine_distances, \n",
    "                                        pairwise_distances)\n",
    "\n",
    "from scipy import sparse"
   ]
  },
  {
   "cell_type": "code",
   "execution_count": 32,
   "id": "d88c2378",
   "metadata": {
    "ExecuteTime": {
     "end_time": "2023-04-10T19:05:57.979310Z",
     "start_time": "2023-04-10T19:05:57.951386Z"
    }
   },
   "outputs": [],
   "source": [
    "#importing game names\n",
    "names = pd.read_csv('./data/recommender_data/names.csv')\n",
    "names = names.set_index('BGGId')\n",
    "names = names.drop(columns=['Unnamed: 0'])"
   ]
  },
  {
   "cell_type": "code",
   "execution_count": 33,
   "id": "f7084dd1",
   "metadata": {
    "ExecuteTime": {
     "end_time": "2023-04-10T19:08:11.808537Z",
     "start_time": "2023-04-10T19:05:57.980308Z"
    }
   },
   "outputs": [],
   "source": [
    "#importing the ratings dataframe\n",
    "ratings = pd.read_csv('./data/recommender_data/rating_data.csv')\n",
    "#setting the index to the game ID\n",
    "ratings=ratings.set_index('BGGId')"
   ]
  },
  {
   "cell_type": "code",
   "execution_count": 34,
   "id": "54c970a4",
   "metadata": {
    "ExecuteTime": {
     "end_time": "2023-04-10T19:08:15.558512Z",
     "start_time": "2023-04-10T19:08:11.811529Z"
    }
   },
   "outputs": [],
   "source": [
    "#creating a sparse matrix from the dataframe\n",
    "sparse=sparse.csr_matrix(ratings.fillna(0))"
   ]
  },
  {
   "cell_type": "code",
   "execution_count": 35,
   "id": "a9fda4e3",
   "metadata": {
    "ExecuteTime": {
     "end_time": "2023-04-10T19:08:23.558125Z",
     "start_time": "2023-04-10T19:08:15.560507Z"
    }
   },
   "outputs": [],
   "source": [
    "#getting the pairwise distances (cos similarity) for every game based on reviews\n",
    "dists = pairwise_distances(sparse, metric='cosine')"
   ]
  },
  {
   "cell_type": "code",
   "execution_count": 36,
   "id": "752f3851",
   "metadata": {
    "ExecuteTime": {
     "end_time": "2023-04-10T19:08:23.573086Z",
     "start_time": "2023-04-10T19:08:23.559123Z"
    }
   },
   "outputs": [],
   "source": [
    "#creating the recommender df\n",
    "recommender_df = pd.DataFrame(dists, columns=ratings.index, index=ratings.index)"
   ]
  },
  {
   "cell_type": "code",
   "execution_count": 37,
   "id": "0aec4a2c",
   "metadata": {
    "ExecuteTime": {
     "end_time": "2023-04-10T19:08:24.900536Z",
     "start_time": "2023-04-10T19:08:23.575081Z"
    }
   },
   "outputs": [],
   "source": [
    "#renaming the index and columns of the recommender df for ease of use\n",
    "\n",
    "#creating a list of all the game names, using the names dataframe\n",
    "game_names = []\n",
    "for col in list(recommender_df.columns):\n",
    "    game_names.append(list(names[names.index == col]['Name'])[0])\n",
    "\n",
    "#resetting the column names\n",
    "recommender_df.columns = game_names\n",
    "\n",
    "#setting the index as game name instead of game ID\n",
    "recommender_df['Name'] = game_names\n",
    "recommender_df = recommender_df.set_index('Name')"
   ]
  },
  {
   "cell_type": "code",
   "execution_count": 38,
   "id": "908f9527",
   "metadata": {
    "ExecuteTime": {
     "end_time": "2023-04-10T19:15:07.259884Z",
     "start_time": "2023-04-10T19:08:24.902531Z"
    }
   },
   "outputs": [],
   "source": [
    "#reordering each column, and populating the column with names instead of scores\n",
    "for col in recommender_df.columns:\n",
    "    recommender_df[col] = list(recommender_df.sort_values(col).index)  \n",
    "\n",
    "#limiting the dataframe to only the top 100 recommendations\n",
    "recommender_df=recommender_df.head(100)\n",
    "\n",
    "#dropping the first row because it is redundant\n",
    "recommender_df = recommender_df.tail(-1)"
   ]
  },
  {
   "cell_type": "code",
   "execution_count": 39,
   "id": "995ce49e",
   "metadata": {
    "ExecuteTime": {
     "end_time": "2023-04-10T19:15:07.433420Z",
     "start_time": "2023-04-10T19:15:07.260882Z"
    }
   },
   "outputs": [],
   "source": [
    "#exporting the recommender DF to csv\n",
    "recommender_df.to_csv('./data/recommender_data/review_based_recommender_df.csv')"
   ]
  }
 ],
 "metadata": {
  "kernelspec": {
   "display_name": "Python 3",
   "language": "python",
   "name": "python3"
  },
  "language_info": {
   "codemirror_mode": {
    "name": "ipython",
    "version": 3
   },
   "file_extension": ".py",
   "mimetype": "text/x-python",
   "name": "python",
   "nbconvert_exporter": "python",
   "pygments_lexer": "ipython3",
   "version": "3.8.8"
  }
 },
 "nbformat": 4,
 "nbformat_minor": 5
}
