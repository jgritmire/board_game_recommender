{
 "cells": [
  {
   "cell_type": "markdown",
   "id": "216c2eb9",
   "metadata": {},
   "source": [
    "## GAMES\n",
    "##### the basic information file with 47 features about each of 22k board games. Primary key is \n",
    "\n",
    "## BGGId \n",
    "##### which is the BoardGameGeek game id.\n",
    "\n",
    "## RATINGS_DISTRIBTION\n",
    "##### includes full ratings distribution for each BGGId\n",
    "\n",
    "## THEMES\n",
    "##### table of themes for each BGGId\n",
    "\n",
    "## MECHANICS\n",
    "##### table of mechanics with binary flags per BGGId\n",
    "\n",
    "## SUBCATEGORIES \n",
    "##### table of subcategories with binary flags per BGGId\n",
    "\n",
    "## ARTISTS_REDUCED \n",
    "##### gives artist information for each BGGId. This file is reduced to artists with >3  works, with a binary flag indicating the game included an artist with <= 3 works\n",
    "\n",
    "## DESIGNERS_REDUCED\n",
    "##### gives designer information for each BGGId. This file is reduced to designers with >3 works, with a binary flag indicating the game included a designer with <= 3 works\n",
    "\n",
    "## PUBLISHERS_REDUCED\n",
    "##### gives publisher information for each BGGId. This file is reduced to publishers with >3 works, with a binary flag indicating the game included a publisher with <= 3 works\n",
    "\n",
    "## USER_RATINGS\n",
    "##### has all ratings for all BGGId with username. There are over 411k unique users and ~19 million ratings. Use in recommender system."
   ]
  },
  {
   "cell_type": "code",
   "execution_count": 211,
   "id": "751972e4",
   "metadata": {
    "ExecuteTime": {
     "end_time": "2023-04-10T18:56:01.573721Z",
     "start_time": "2023-04-10T18:56:01.567736Z"
    }
   },
   "outputs": [],
   "source": [
    "#importing relevant libraries\n",
    "import pandas as pd\n",
    "import numpy as np\n",
    "from matplotlib import pyplot as plt\n",
    "import scipy.stats\n",
    "from sklearn.metrics.pairwise import cosine_similarity"
   ]
  },
  {
   "cell_type": "code",
   "execution_count": 212,
   "id": "4a7851f8",
   "metadata": {
    "ExecuteTime": {
     "end_time": "2023-04-10T18:56:02.010551Z",
     "start_time": "2023-04-10T18:56:01.575715Z"
    }
   },
   "outputs": [],
   "source": [
    "#reading in the games dataset\n",
    "games = pd.read_csv('./data/games.csv')\n",
    "games['Name']=games['Name']+games['YearPublished'].apply(lambda x: ' (' + str(x) +')')\n"
   ]
  },
  {
   "cell_type": "code",
   "execution_count": 213,
   "id": "ef0c7137",
   "metadata": {
    "ExecuteTime": {
     "end_time": "2023-04-10T18:56:02.042467Z",
     "start_time": "2023-04-10T18:56:02.012547Z"
    }
   },
   "outputs": [
    {
     "data": {
      "text/html": [
       "<div>\n",
       "<style scoped>\n",
       "    .dataframe tbody tr th:only-of-type {\n",
       "        vertical-align: middle;\n",
       "    }\n",
       "\n",
       "    .dataframe tbody tr th {\n",
       "        vertical-align: top;\n",
       "    }\n",
       "\n",
       "    .dataframe thead th {\n",
       "        text-align: right;\n",
       "    }\n",
       "</style>\n",
       "<table border=\"1\" class=\"dataframe\">\n",
       "  <thead>\n",
       "    <tr style=\"text-align: right;\">\n",
       "      <th></th>\n",
       "      <th>BGGId</th>\n",
       "      <th>Name</th>\n",
       "      <th>Description</th>\n",
       "      <th>YearPublished</th>\n",
       "      <th>GameWeight</th>\n",
       "      <th>AvgRating</th>\n",
       "      <th>BayesAvgRating</th>\n",
       "      <th>StdDev</th>\n",
       "      <th>MinPlayers</th>\n",
       "      <th>MaxPlayers</th>\n",
       "      <th>...</th>\n",
       "      <th>Rank:partygames</th>\n",
       "      <th>Rank:childrensgames</th>\n",
       "      <th>Cat:Thematic</th>\n",
       "      <th>Cat:Strategy</th>\n",
       "      <th>Cat:War</th>\n",
       "      <th>Cat:Family</th>\n",
       "      <th>Cat:CGS</th>\n",
       "      <th>Cat:Abstract</th>\n",
       "      <th>Cat:Party</th>\n",
       "      <th>Cat:Childrens</th>\n",
       "    </tr>\n",
       "  </thead>\n",
       "  <tbody>\n",
       "    <tr>\n",
       "      <th>0</th>\n",
       "      <td>1</td>\n",
       "      <td>Die Macher (1986)</td>\n",
       "      <td>die macher game seven sequential political rac...</td>\n",
       "      <td>1986</td>\n",
       "      <td>4.3206</td>\n",
       "      <td>7.61428</td>\n",
       "      <td>7.10363</td>\n",
       "      <td>1.57979</td>\n",
       "      <td>3</td>\n",
       "      <td>5</td>\n",
       "      <td>...</td>\n",
       "      <td>21926</td>\n",
       "      <td>21926</td>\n",
       "      <td>0</td>\n",
       "      <td>1</td>\n",
       "      <td>0</td>\n",
       "      <td>0</td>\n",
       "      <td>0</td>\n",
       "      <td>0</td>\n",
       "      <td>0</td>\n",
       "      <td>0</td>\n",
       "    </tr>\n",
       "    <tr>\n",
       "      <th>1</th>\n",
       "      <td>2</td>\n",
       "      <td>Dragonmaster (1981)</td>\n",
       "      <td>dragonmaster tricktaking card game base old ga...</td>\n",
       "      <td>1981</td>\n",
       "      <td>1.9630</td>\n",
       "      <td>6.64537</td>\n",
       "      <td>5.78447</td>\n",
       "      <td>1.45440</td>\n",
       "      <td>3</td>\n",
       "      <td>4</td>\n",
       "      <td>...</td>\n",
       "      <td>21926</td>\n",
       "      <td>21926</td>\n",
       "      <td>0</td>\n",
       "      <td>1</td>\n",
       "      <td>0</td>\n",
       "      <td>0</td>\n",
       "      <td>0</td>\n",
       "      <td>0</td>\n",
       "      <td>0</td>\n",
       "      <td>0</td>\n",
       "    </tr>\n",
       "    <tr>\n",
       "      <th>2</th>\n",
       "      <td>3</td>\n",
       "      <td>Samurai (1998)</td>\n",
       "      <td>samurai set medieval japan player compete gain...</td>\n",
       "      <td>1998</td>\n",
       "      <td>2.4859</td>\n",
       "      <td>7.45601</td>\n",
       "      <td>7.23994</td>\n",
       "      <td>1.18227</td>\n",
       "      <td>2</td>\n",
       "      <td>4</td>\n",
       "      <td>...</td>\n",
       "      <td>21926</td>\n",
       "      <td>21926</td>\n",
       "      <td>0</td>\n",
       "      <td>1</td>\n",
       "      <td>0</td>\n",
       "      <td>0</td>\n",
       "      <td>0</td>\n",
       "      <td>0</td>\n",
       "      <td>0</td>\n",
       "      <td>0</td>\n",
       "    </tr>\n",
       "    <tr>\n",
       "      <th>3</th>\n",
       "      <td>4</td>\n",
       "      <td>Tal der Könige (1992)</td>\n",
       "      <td>triangular box luxurious large block tal der k...</td>\n",
       "      <td>1992</td>\n",
       "      <td>2.6667</td>\n",
       "      <td>6.60006</td>\n",
       "      <td>5.67954</td>\n",
       "      <td>1.23129</td>\n",
       "      <td>2</td>\n",
       "      <td>4</td>\n",
       "      <td>...</td>\n",
       "      <td>21926</td>\n",
       "      <td>21926</td>\n",
       "      <td>0</td>\n",
       "      <td>0</td>\n",
       "      <td>0</td>\n",
       "      <td>0</td>\n",
       "      <td>0</td>\n",
       "      <td>0</td>\n",
       "      <td>0</td>\n",
       "      <td>0</td>\n",
       "    </tr>\n",
       "    <tr>\n",
       "      <th>4</th>\n",
       "      <td>5</td>\n",
       "      <td>Acquire (1964)</td>\n",
       "      <td>acquire player strategically invest business t...</td>\n",
       "      <td>1964</td>\n",
       "      <td>2.5031</td>\n",
       "      <td>7.33861</td>\n",
       "      <td>7.14189</td>\n",
       "      <td>1.33583</td>\n",
       "      <td>2</td>\n",
       "      <td>6</td>\n",
       "      <td>...</td>\n",
       "      <td>21926</td>\n",
       "      <td>21926</td>\n",
       "      <td>0</td>\n",
       "      <td>1</td>\n",
       "      <td>0</td>\n",
       "      <td>0</td>\n",
       "      <td>0</td>\n",
       "      <td>0</td>\n",
       "      <td>0</td>\n",
       "      <td>0</td>\n",
       "    </tr>\n",
       "  </tbody>\n",
       "</table>\n",
       "<p>5 rows × 48 columns</p>\n",
       "</div>"
      ],
      "text/plain": [
       "   BGGId                   Name  \\\n",
       "0      1      Die Macher (1986)   \n",
       "1      2    Dragonmaster (1981)   \n",
       "2      3         Samurai (1998)   \n",
       "3      4  Tal der Könige (1992)   \n",
       "4      5         Acquire (1964)   \n",
       "\n",
       "                                         Description  YearPublished  \\\n",
       "0  die macher game seven sequential political rac...           1986   \n",
       "1  dragonmaster tricktaking card game base old ga...           1981   \n",
       "2  samurai set medieval japan player compete gain...           1998   \n",
       "3  triangular box luxurious large block tal der k...           1992   \n",
       "4  acquire player strategically invest business t...           1964   \n",
       "\n",
       "   GameWeight  AvgRating  BayesAvgRating   StdDev  MinPlayers  MaxPlayers  \\\n",
       "0      4.3206    7.61428         7.10363  1.57979           3           5   \n",
       "1      1.9630    6.64537         5.78447  1.45440           3           4   \n",
       "2      2.4859    7.45601         7.23994  1.18227           2           4   \n",
       "3      2.6667    6.60006         5.67954  1.23129           2           4   \n",
       "4      2.5031    7.33861         7.14189  1.33583           2           6   \n",
       "\n",
       "   ...  Rank:partygames  Rank:childrensgames  Cat:Thematic Cat:Strategy  \\\n",
       "0  ...            21926                21926             0            1   \n",
       "1  ...            21926                21926             0            1   \n",
       "2  ...            21926                21926             0            1   \n",
       "3  ...            21926                21926             0            0   \n",
       "4  ...            21926                21926             0            1   \n",
       "\n",
       "   Cat:War  Cat:Family  Cat:CGS  Cat:Abstract  Cat:Party  Cat:Childrens  \n",
       "0        0           0        0             0          0              0  \n",
       "1        0           0        0             0          0              0  \n",
       "2        0           0        0             0          0              0  \n",
       "3        0           0        0             0          0              0  \n",
       "4        0           0        0             0          0              0  \n",
       "\n",
       "[5 rows x 48 columns]"
      ]
     },
     "execution_count": 213,
     "metadata": {},
     "output_type": "execute_result"
    }
   ],
   "source": [
    "games.head()"
   ]
  },
  {
   "cell_type": "code",
   "execution_count": 214,
   "id": "4a60b991",
   "metadata": {
    "ExecuteTime": {
     "end_time": "2023-04-10T18:56:02.120258Z",
     "start_time": "2023-04-10T18:56:02.044462Z"
    }
   },
   "outputs": [],
   "source": [
    "#creating a dataframe for identifying games later\n",
    "names = games[['BGGId', 'Name']]\n",
    "names.to_csv('./data/recommender_data/names.csv')"
   ]
  },
  {
   "cell_type": "code",
   "execution_count": 215,
   "id": "57fa253c",
   "metadata": {
    "ExecuteTime": {
     "end_time": "2023-04-10T18:56:02.136216Z",
     "start_time": "2023-04-10T18:56:02.121256Z"
    }
   },
   "outputs": [],
   "source": [
    "#separating out the image data so we can use it in our final recommender app\n",
    "cover_art = games[['BGGId','Name', 'ImagePath']]"
   ]
  },
  {
   "cell_type": "code",
   "execution_count": 216,
   "id": "aac813c4",
   "metadata": {
    "ExecuteTime": {
     "end_time": "2023-04-10T18:56:02.168131Z",
     "start_time": "2023-04-10T18:56:02.139209Z"
    }
   },
   "outputs": [
    {
     "data": {
      "text/html": [
       "<div>\n",
       "<style scoped>\n",
       "    .dataframe tbody tr th:only-of-type {\n",
       "        vertical-align: middle;\n",
       "    }\n",
       "\n",
       "    .dataframe tbody tr th {\n",
       "        vertical-align: top;\n",
       "    }\n",
       "\n",
       "    .dataframe thead th {\n",
       "        text-align: right;\n",
       "    }\n",
       "</style>\n",
       "<table border=\"1\" class=\"dataframe\">\n",
       "  <thead>\n",
       "    <tr style=\"text-align: right;\">\n",
       "      <th></th>\n",
       "      <th>BGGId</th>\n",
       "      <th>Name</th>\n",
       "      <th>Description</th>\n",
       "      <th>YearPublished</th>\n",
       "      <th>GameWeight</th>\n",
       "      <th>AvgRating</th>\n",
       "      <th>BayesAvgRating</th>\n",
       "      <th>StdDev</th>\n",
       "      <th>MinPlayers</th>\n",
       "      <th>MaxPlayers</th>\n",
       "      <th>...</th>\n",
       "      <th>Rank:partygames</th>\n",
       "      <th>Rank:childrensgames</th>\n",
       "      <th>Cat:Thematic</th>\n",
       "      <th>Cat:Strategy</th>\n",
       "      <th>Cat:War</th>\n",
       "      <th>Cat:Family</th>\n",
       "      <th>Cat:CGS</th>\n",
       "      <th>Cat:Abstract</th>\n",
       "      <th>Cat:Party</th>\n",
       "      <th>Cat:Childrens</th>\n",
       "    </tr>\n",
       "  </thead>\n",
       "  <tbody>\n",
       "    <tr>\n",
       "      <th>0</th>\n",
       "      <td>1</td>\n",
       "      <td>Die Macher (1986)</td>\n",
       "      <td>die macher game seven sequential political rac...</td>\n",
       "      <td>1986</td>\n",
       "      <td>4.3206</td>\n",
       "      <td>7.61428</td>\n",
       "      <td>7.10363</td>\n",
       "      <td>1.57979</td>\n",
       "      <td>3</td>\n",
       "      <td>5</td>\n",
       "      <td>...</td>\n",
       "      <td>21926</td>\n",
       "      <td>21926</td>\n",
       "      <td>0</td>\n",
       "      <td>1</td>\n",
       "      <td>0</td>\n",
       "      <td>0</td>\n",
       "      <td>0</td>\n",
       "      <td>0</td>\n",
       "      <td>0</td>\n",
       "      <td>0</td>\n",
       "    </tr>\n",
       "    <tr>\n",
       "      <th>1</th>\n",
       "      <td>2</td>\n",
       "      <td>Dragonmaster (1981)</td>\n",
       "      <td>dragonmaster tricktaking card game base old ga...</td>\n",
       "      <td>1981</td>\n",
       "      <td>1.9630</td>\n",
       "      <td>6.64537</td>\n",
       "      <td>5.78447</td>\n",
       "      <td>1.45440</td>\n",
       "      <td>3</td>\n",
       "      <td>4</td>\n",
       "      <td>...</td>\n",
       "      <td>21926</td>\n",
       "      <td>21926</td>\n",
       "      <td>0</td>\n",
       "      <td>1</td>\n",
       "      <td>0</td>\n",
       "      <td>0</td>\n",
       "      <td>0</td>\n",
       "      <td>0</td>\n",
       "      <td>0</td>\n",
       "      <td>0</td>\n",
       "    </tr>\n",
       "    <tr>\n",
       "      <th>2</th>\n",
       "      <td>3</td>\n",
       "      <td>Samurai (1998)</td>\n",
       "      <td>samurai set medieval japan player compete gain...</td>\n",
       "      <td>1998</td>\n",
       "      <td>2.4859</td>\n",
       "      <td>7.45601</td>\n",
       "      <td>7.23994</td>\n",
       "      <td>1.18227</td>\n",
       "      <td>2</td>\n",
       "      <td>4</td>\n",
       "      <td>...</td>\n",
       "      <td>21926</td>\n",
       "      <td>21926</td>\n",
       "      <td>0</td>\n",
       "      <td>1</td>\n",
       "      <td>0</td>\n",
       "      <td>0</td>\n",
       "      <td>0</td>\n",
       "      <td>0</td>\n",
       "      <td>0</td>\n",
       "      <td>0</td>\n",
       "    </tr>\n",
       "    <tr>\n",
       "      <th>3</th>\n",
       "      <td>4</td>\n",
       "      <td>Tal der Könige (1992)</td>\n",
       "      <td>triangular box luxurious large block tal der k...</td>\n",
       "      <td>1992</td>\n",
       "      <td>2.6667</td>\n",
       "      <td>6.60006</td>\n",
       "      <td>5.67954</td>\n",
       "      <td>1.23129</td>\n",
       "      <td>2</td>\n",
       "      <td>4</td>\n",
       "      <td>...</td>\n",
       "      <td>21926</td>\n",
       "      <td>21926</td>\n",
       "      <td>0</td>\n",
       "      <td>0</td>\n",
       "      <td>0</td>\n",
       "      <td>0</td>\n",
       "      <td>0</td>\n",
       "      <td>0</td>\n",
       "      <td>0</td>\n",
       "      <td>0</td>\n",
       "    </tr>\n",
       "    <tr>\n",
       "      <th>4</th>\n",
       "      <td>5</td>\n",
       "      <td>Acquire (1964)</td>\n",
       "      <td>acquire player strategically invest business t...</td>\n",
       "      <td>1964</td>\n",
       "      <td>2.5031</td>\n",
       "      <td>7.33861</td>\n",
       "      <td>7.14189</td>\n",
       "      <td>1.33583</td>\n",
       "      <td>2</td>\n",
       "      <td>6</td>\n",
       "      <td>...</td>\n",
       "      <td>21926</td>\n",
       "      <td>21926</td>\n",
       "      <td>0</td>\n",
       "      <td>1</td>\n",
       "      <td>0</td>\n",
       "      <td>0</td>\n",
       "      <td>0</td>\n",
       "      <td>0</td>\n",
       "      <td>0</td>\n",
       "      <td>0</td>\n",
       "    </tr>\n",
       "  </tbody>\n",
       "</table>\n",
       "<p>5 rows × 48 columns</p>\n",
       "</div>"
      ],
      "text/plain": [
       "   BGGId                   Name  \\\n",
       "0      1      Die Macher (1986)   \n",
       "1      2    Dragonmaster (1981)   \n",
       "2      3         Samurai (1998)   \n",
       "3      4  Tal der Könige (1992)   \n",
       "4      5         Acquire (1964)   \n",
       "\n",
       "                                         Description  YearPublished  \\\n",
       "0  die macher game seven sequential political rac...           1986   \n",
       "1  dragonmaster tricktaking card game base old ga...           1981   \n",
       "2  samurai set medieval japan player compete gain...           1998   \n",
       "3  triangular box luxurious large block tal der k...           1992   \n",
       "4  acquire player strategically invest business t...           1964   \n",
       "\n",
       "   GameWeight  AvgRating  BayesAvgRating   StdDev  MinPlayers  MaxPlayers  \\\n",
       "0      4.3206    7.61428         7.10363  1.57979           3           5   \n",
       "1      1.9630    6.64537         5.78447  1.45440           3           4   \n",
       "2      2.4859    7.45601         7.23994  1.18227           2           4   \n",
       "3      2.6667    6.60006         5.67954  1.23129           2           4   \n",
       "4      2.5031    7.33861         7.14189  1.33583           2           6   \n",
       "\n",
       "   ...  Rank:partygames  Rank:childrensgames  Cat:Thematic Cat:Strategy  \\\n",
       "0  ...            21926                21926             0            1   \n",
       "1  ...            21926                21926             0            1   \n",
       "2  ...            21926                21926             0            1   \n",
       "3  ...            21926                21926             0            0   \n",
       "4  ...            21926                21926             0            1   \n",
       "\n",
       "   Cat:War  Cat:Family  Cat:CGS  Cat:Abstract  Cat:Party  Cat:Childrens  \n",
       "0        0           0        0             0          0              0  \n",
       "1        0           0        0             0          0              0  \n",
       "2        0           0        0             0          0              0  \n",
       "3        0           0        0             0          0              0  \n",
       "4        0           0        0             0          0              0  \n",
       "\n",
       "[5 rows x 48 columns]"
      ]
     },
     "execution_count": 216,
     "metadata": {},
     "output_type": "execute_result"
    }
   ],
   "source": [
    "#examining the game dataset\n",
    "games.head()"
   ]
  },
  {
   "cell_type": "code",
   "execution_count": 217,
   "id": "cd844adf",
   "metadata": {
    "ExecuteTime": {
     "end_time": "2023-04-10T18:56:02.184088Z",
     "start_time": "2023-04-10T18:56:02.169128Z"
    }
   },
   "outputs": [],
   "source": [
    "#removing unnecessary columns\n",
    "games = games[[\n",
    "    'BGGId',\n",
    "#     'Name',\n",
    "#     'Description',\n",
    "    'YearPublished',\n",
    "    'GameWeight',\n",
    "    'AvgRating',\n",
    "    'BayesAvgRating',\n",
    "#     'StdDev',\n",
    "    'MinPlayers',\n",
    "    'MaxPlayers',\n",
    "#     'ComAgeRec',\n",
    "#     'LanguageEase',\n",
    "#     'BestPlayers',\n",
    "#     'GoodPlayers',\n",
    "#     'NumOwned',\n",
    "#     'NumWant',\n",
    "#     'NumWish',\n",
    "#     'NumWeightVotes',\n",
    "    'MfgPlaytime',\n",
    "#     'ComMinPlaytime',\n",
    "#     'ComMaxPlaytime',\n",
    "#     'MfgAgeRec',\n",
    "    'NumUserRatings',\n",
    "#     'NumComments',\n",
    "#     'NumAlternates',\n",
    "    'NumExpansions',\n",
    "#     'NumImplementations',\n",
    "#     'IsReimplementation',\n",
    "#     'Family',\n",
    "#     'Kickstarted',\n",
    "#     'ImagePath',\n",
    "#     'Rank:boardgame',\n",
    "#     'Rank:strategygames',\n",
    "#     'Rank:abstracts',\n",
    "#     'Rank:familygames',\n",
    "#     'Rank:thematic',\n",
    "#     'Rank:cgs',\n",
    "#     'Rank:wargames',\n",
    "#     'Rank:partygames',\n",
    "#     'Rank:childrensgames',\n",
    "#     'Cat:Thematic',\n",
    "#     'Cat:Strategy',\n",
    "#     'Cat:War',\n",
    "#     'Cat:Family',\n",
    "#     'Cat:CGS',\n",
    "#     'Cat:Abstract',\n",
    "#     'Cat:Party',\n",
    "#     'Cat:Childrens'\n",
    "]]"
   ]
  },
  {
   "cell_type": "markdown",
   "id": "7967f6ab",
   "metadata": {},
   "source": [
    "## Game Data Exploration"
   ]
  },
  {
   "cell_type": "code",
   "execution_count": 218,
   "id": "15b828ae",
   "metadata": {
    "ExecuteTime": {
     "end_time": "2023-04-10T18:56:02.513209Z",
     "start_time": "2023-04-10T18:56:02.188078Z"
    }
   },
   "outputs": [
    {
     "data": {
      "image/png": "[encoded data removed]",
      "text/plain": [
       "<Figure size 432x288 with 1 Axes>"
      ]
     },
     "metadata": {
      "needs_background": "light"
     },
     "output_type": "display_data"
    }
   ],
   "source": [
    "#examining the distribution of user reviews\n",
    "plt.hist(games['NumUserRatings'], bins=100)\n",
    "plt.title('Distribution of # of User Ratings')\n",
    "plt.xlabel('# of Reviews')\n",
    "plt.ylabel('count')\n",
    "plt.show()"
   ]
  },
  {
   "cell_type": "markdown",
   "id": "7c934fe0",
   "metadata": {},
   "source": [
    "We see most of our games fall at <1000 reviews, so we will examine that end of the spectrum"
   ]
  },
  {
   "cell_type": "code",
   "execution_count": 219,
   "id": "adc065d8",
   "metadata": {
    "ExecuteTime": {
     "end_time": "2023-04-10T18:56:02.806425Z",
     "start_time": "2023-04-10T18:56:02.515203Z"
    }
   },
   "outputs": [
    {
     "data": {
      "image/png": "[encoded data removed]",
      "text/plain": [
       "<Figure size 432x288 with 1 Axes>"
      ]
     },
     "metadata": {
      "needs_background": "light"
     },
     "output_type": "display_data"
    }
   ],
   "source": [
    "#checking the distribution of number of reviews for games with <1000 reviews\n",
    "\n",
    "temp = games[games['NumUserRatings']<1000]\n",
    "\n",
    "plt.hist(temp['NumUserRatings'], bins=100)\n",
    "plt.title('Distribution of # of User Ratings')\n",
    "plt.xlabel('# of Reviews')\n",
    "plt.ylabel('count')\n",
    "plt.show()"
   ]
  },
  {
   "cell_type": "markdown",
   "id": "bb920943",
   "metadata": {},
   "source": [
    "I want to limit my recommendations to the somewhat popular games so that ultimately, my recommender dataframe will be small, and the application will run quickly."
   ]
  },
  {
   "cell_type": "code",
   "execution_count": 220,
   "id": "c990d4c2",
   "metadata": {
    "ExecuteTime": {
     "end_time": "2023-04-10T18:56:02.822382Z",
     "start_time": "2023-04-10T18:56:02.808420Z"
    }
   },
   "outputs": [],
   "source": [
    "#limiting dataframe to only games that have more that 1,000 reviews\n",
    "\n",
    "games = games[games['NumUserRatings']>1000]"
   ]
  },
  {
   "cell_type": "code",
   "execution_count": 221,
   "id": "53fb51bf",
   "metadata": {
    "ExecuteTime": {
     "end_time": "2023-04-10T18:56:02.838339Z",
     "start_time": "2023-04-10T18:56:02.824376Z"
    }
   },
   "outputs": [
    {
     "data": {
      "text/plain": [
       "(2911, 10)"
      ]
     },
     "execution_count": 221,
     "metadata": {},
     "output_type": "execute_result"
    }
   ],
   "source": [
    "#checking the shape of the games df\n",
    "games.shape"
   ]
  },
  {
   "cell_type": "code",
   "execution_count": 222,
   "id": "29a23bcb",
   "metadata": {
    "ExecuteTime": {
     "end_time": "2023-04-10T18:56:03.011875Z",
     "start_time": "2023-04-10T18:56:02.840334Z"
    }
   },
   "outputs": [
    {
     "data": {
      "image/png": "[encoded data removed]",
      "text/plain": [
       "<Figure size 432x288 with 1 Axes>"
      ]
     },
     "metadata": {
      "needs_background": "light"
     },
     "output_type": "display_data"
    }
   ],
   "source": [
    "# looking at the distribution of avg rating\n",
    "plt.hist(games['BayesAvgRating'], bins = 20)\n",
    "plt.title('Distribution of the Bayesian Avg Rating')\n",
    "plt.xlabel('Bayesian Avg Rating')\n",
    "plt.ylabel('Count')\n",
    "plt.show()"
   ]
  },
  {
   "cell_type": "code",
   "execution_count": 223,
   "id": "9fbad143",
   "metadata": {
    "ExecuteTime": {
     "end_time": "2023-04-10T18:56:03.184413Z",
     "start_time": "2023-04-10T18:56:03.012872Z"
    }
   },
   "outputs": [
    {
     "data": {
      "image/png": "[encoded data removed]",
      "text/plain": [
       "<Figure size 432x288 with 1 Axes>"
      ]
     },
     "metadata": {
      "needs_background": "light"
     },
     "output_type": "display_data"
    }
   ],
   "source": [
    "#looking at complexity vs avg rating scatter plot\n",
    "plt.scatter(games['GameWeight'], games['BayesAvgRating'], s = 2, alpha = 0.5)\n",
    "plt.title(\"Avg Rating vs Complexity\")\n",
    "plt.xlabel('Complexity Score')\n",
    "plt.ylabel('Avg Rating')\n",
    "plt.show()"
   ]
  },
  {
   "cell_type": "markdown",
   "id": "41290b8a",
   "metadata": {},
   "source": [
    "Interestingly, it seems like our userbase prefers more complicated games, as there is a linear relationship between the complexity of the game, and the average review score. "
   ]
  },
  {
   "cell_type": "code",
   "execution_count": 224,
   "id": "b0e6747d",
   "metadata": {
    "ExecuteTime": {
     "end_time": "2023-04-10T18:56:03.354957Z",
     "start_time": "2023-04-10T18:56:03.186409Z"
    }
   },
   "outputs": [
    {
     "data": {
      "image/png": "[encoded data removed]",
      "text/plain": [
       "<Figure size 432x288 with 1 Axes>"
      ]
     },
     "metadata": {
      "needs_background": "light"
     },
     "output_type": "display_data"
    }
   ],
   "source": [
    "#looking at the distribution of game playtime\n",
    "plt.hist(games['MfgPlaytime'])\n",
    "plt.title('Distribution of Game Play Time')\n",
    "plt.xlabel('Game Play Time (Minutes)')\n",
    "plt.ylabel('Count')\n",
    "plt.show()"
   ]
  },
  {
   "cell_type": "markdown",
   "id": "2832d297",
   "metadata": {},
   "source": [
    "There are some games with ridiculously long playtimes, and after looking at the data source it turns out that these are not miscoded, but rather obscenely long games. I cannot, in good conscience, recommend a game to someone that would take them 20 hours to play. "
   ]
  },
  {
   "cell_type": "code",
   "execution_count": 225,
   "id": "2100d2f0",
   "metadata": {
    "ExecuteTime": {
     "end_time": "2023-04-10T18:56:03.585341Z",
     "start_time": "2023-04-10T18:56:03.355959Z"
    }
   },
   "outputs": [
    {
     "data": {
      "image/png": "[encoded data removed]",
      "text/plain": [
       "<Figure size 432x288 with 1 Axes>"
      ]
     },
     "metadata": {
      "needs_background": "light"
     },
     "output_type": "display_data"
    }
   ],
   "source": [
    "#examining games with a more reasonable play time of <480 minutes\n",
    "temp = games[games['MfgPlaytime']<480]\n",
    "\n",
    "plt.hist(temp['MfgPlaytime'])\n",
    "plt.title('Distribution of Game Play Time')\n",
    "plt.xlabel('Game Play Time (Minutes)')\n",
    "plt.ylabel('Count')\n",
    "plt.show()"
   ]
  },
  {
   "cell_type": "code",
   "execution_count": 226,
   "id": "1cb208a2",
   "metadata": {
    "ExecuteTime": {
     "end_time": "2023-04-10T18:56:03.600301Z",
     "start_time": "2023-04-10T18:56:03.586339Z"
    }
   },
   "outputs": [],
   "source": [
    "games = games[games['MfgPlaytime']<480]"
   ]
  },
  {
   "cell_type": "code",
   "execution_count": 227,
   "id": "4c8a78c7",
   "metadata": {
    "ExecuteTime": {
     "end_time": "2023-04-10T18:56:03.739928Z",
     "start_time": "2023-04-10T18:56:03.601299Z"
    }
   },
   "outputs": [
    {
     "data": {
      "text/plain": [
       "Text(0, 0.5, 'Bayesian Avg. Rating')"
      ]
     },
     "execution_count": 227,
     "metadata": {},
     "output_type": "execute_result"
    },
    {
     "data": {
      "image/png": "[encoded data removed]",
      "text/plain": [
       "<Figure size 432x288 with 1 Axes>"
      ]
     },
     "metadata": {
      "needs_background": "light"
     },
     "output_type": "display_data"
    }
   ],
   "source": [
    "#looking at the relationship between playtime and avg rating\n",
    "\n",
    "plt.scatter(temp['MfgPlaytime'], temp['BayesAvgRating'], s = 3, alpha = 0.5)\n",
    "plt.title('Play Time vs Avg Rating')\n",
    "plt.xlabel('Play Time (Minutes)')\n",
    "plt.ylabel('Bayesian Avg. Rating')"
   ]
  },
  {
   "cell_type": "markdown",
   "id": "db2e4b0d",
   "metadata": {},
   "source": [
    "There appears to be a slightly parabolic relationship between play time and avg score, with the shortest games scoring slightly lower than games with a play time of 1-2 hours, and then a slight fall off in score for games that run longer than 2 hours. "
   ]
  },
  {
   "cell_type": "code",
   "execution_count": 228,
   "id": "0d53692e",
   "metadata": {
    "ExecuteTime": {
     "end_time": "2023-04-10T18:56:03.881550Z",
     "start_time": "2023-04-10T18:56:03.740925Z"
    }
   },
   "outputs": [
    {
     "data": {
      "image/png": "[encoded data removed]",
      "text/plain": [
       "<Figure size 432x288 with 1 Axes>"
      ]
     },
     "metadata": {
      "needs_background": "light"
     },
     "output_type": "display_data"
    }
   ],
   "source": [
    "#looking at the relationship between number of players and avg score\n",
    "#limiting our examination to games with fewer than 20 players\n",
    "temp = games[games['MaxPlayers']< 20]\n",
    "plt.scatter(temp['MaxPlayers'], temp['BayesAvgRating'], s = 5, alpha=0.5)\n",
    "plt.title('# Players vs Avg Score')\n",
    "plt.xlabel('Number of Players')\n",
    "plt.ylabel('Bayesian Avg. Score')\n",
    "plt.show()"
   ]
  },
  {
   "cell_type": "markdown",
   "id": "e077741c",
   "metadata": {},
   "source": [
    "Again, we see the parabolic relationship where games for 1-2 players score lower than games for 4 players, and games for more than 4 players also begin to decrease in score. \n",
    "\n",
    "Additionally there are handful of games miscoded with max players = 0, so we will fix that."
   ]
  },
  {
   "cell_type": "code",
   "execution_count": 229,
   "id": "2582cd80",
   "metadata": {
    "ExecuteTime": {
     "end_time": "2023-04-10T18:56:03.897508Z",
     "start_time": "2023-04-10T18:56:03.882547Z"
    }
   },
   "outputs": [],
   "source": [
    "#For games with max players = 0, replacing max players with the min players value\n",
    "games['MaxPlayers'] = np.where(games['MaxPlayers'] == 0, games['MinPlayers'], games['MaxPlayers'])"
   ]
  },
  {
   "cell_type": "code",
   "execution_count": 230,
   "id": "437e6085",
   "metadata": {
    "ExecuteTime": {
     "end_time": "2023-04-10T18:56:03.913464Z",
     "start_time": "2023-04-10T18:56:03.899502Z"
    }
   },
   "outputs": [],
   "source": [
    "#There are no games missing year published data, but some games have year \n",
    "#published listed as 0.\n",
    "\n",
    "#Removing games with year published = 0\n",
    "games=games[games['YearPublished']!=0]"
   ]
  },
  {
   "cell_type": "code",
   "execution_count": 231,
   "id": "85d71ee4",
   "metadata": {
    "ExecuteTime": {
     "end_time": "2023-04-10T18:56:03.929422Z",
     "start_time": "2023-04-10T18:56:03.914461Z"
    }
   },
   "outputs": [
    {
     "name": "stdout",
     "output_type": "stream",
     "text": [
      "4.6477 1.0\n"
     ]
    }
   ],
   "source": [
    "#checking min and max of game weight column\n",
    "print(games['GameWeight'].max(), games['GameWeight'].min())"
   ]
  },
  {
   "cell_type": "code",
   "execution_count": 232,
   "id": "7afeae1a",
   "metadata": {
    "ExecuteTime": {
     "end_time": "2023-04-10T18:56:03.944382Z",
     "start_time": "2023-04-10T18:56:03.930420Z"
    }
   },
   "outputs": [
    {
     "name": "stdout",
     "output_type": "stream",
     "text": [
      "420 0\n"
     ]
    }
   ],
   "source": [
    "#checking min and max of playtime column\n",
    "print(games['MfgPlaytime'].max(), games['MfgPlaytime'].min())"
   ]
  },
  {
   "cell_type": "code",
   "execution_count": 233,
   "id": "3ed64a99",
   "metadata": {
    "ExecuteTime": {
     "end_time": "2023-04-10T18:56:03.959342Z",
     "start_time": "2023-04-10T18:56:03.948372Z"
    }
   },
   "outputs": [],
   "source": [
    "#grabbing the list of id's for filtering purposes\n",
    "id_list = list(games['BGGId'])"
   ]
  },
  {
   "cell_type": "markdown",
   "id": "f880efd9",
   "metadata": {},
   "source": [
    "## Examining the Mechanics Data"
   ]
  },
  {
   "cell_type": "code",
   "execution_count": 234,
   "id": "80ce50f8",
   "metadata": {
    "ExecuteTime": {
     "end_time": "2023-04-10T18:56:04.160803Z",
     "start_time": "2023-04-10T18:56:03.961337Z"
    }
   },
   "outputs": [],
   "source": [
    "#reading in the data\n",
    "mechanics = pd.read_csv('./data/mechanics.csv')"
   ]
  },
  {
   "cell_type": "code",
   "execution_count": 235,
   "id": "62c5d2dd",
   "metadata": {
    "ExecuteTime": {
     "end_time": "2023-04-10T18:56:04.192718Z",
     "start_time": "2023-04-10T18:56:04.161801Z"
    }
   },
   "outputs": [
    {
     "data": {
      "text/html": [
       "<div>\n",
       "<style scoped>\n",
       "    .dataframe tbody tr th:only-of-type {\n",
       "        vertical-align: middle;\n",
       "    }\n",
       "\n",
       "    .dataframe tbody tr th {\n",
       "        vertical-align: top;\n",
       "    }\n",
       "\n",
       "    .dataframe thead th {\n",
       "        text-align: right;\n",
       "    }\n",
       "</style>\n",
       "<table border=\"1\" class=\"dataframe\">\n",
       "  <thead>\n",
       "    <tr style=\"text-align: right;\">\n",
       "      <th></th>\n",
       "      <th>BGGId</th>\n",
       "      <th>Alliances</th>\n",
       "      <th>Area Majority / Influence</th>\n",
       "      <th>Auction/Bidding</th>\n",
       "      <th>Dice Rolling</th>\n",
       "      <th>Hand Management</th>\n",
       "      <th>Simultaneous Action Selection</th>\n",
       "      <th>Trick-taking</th>\n",
       "      <th>Hexagon Grid</th>\n",
       "      <th>Once-Per-Game Abilities</th>\n",
       "      <th>...</th>\n",
       "      <th>Contracts</th>\n",
       "      <th>Passed Action Token</th>\n",
       "      <th>King of the Hill</th>\n",
       "      <th>Action Retrieval</th>\n",
       "      <th>Force Commitment</th>\n",
       "      <th>Rondel</th>\n",
       "      <th>Automatic Resource Growth</th>\n",
       "      <th>Legacy Game</th>\n",
       "      <th>Dexterity</th>\n",
       "      <th>Physical</th>\n",
       "    </tr>\n",
       "  </thead>\n",
       "  <tbody>\n",
       "    <tr>\n",
       "      <th>0</th>\n",
       "      <td>1</td>\n",
       "      <td>1</td>\n",
       "      <td>1</td>\n",
       "      <td>1</td>\n",
       "      <td>1</td>\n",
       "      <td>1</td>\n",
       "      <td>1</td>\n",
       "      <td>0</td>\n",
       "      <td>0</td>\n",
       "      <td>0</td>\n",
       "      <td>...</td>\n",
       "      <td>0</td>\n",
       "      <td>0</td>\n",
       "      <td>0</td>\n",
       "      <td>0</td>\n",
       "      <td>0</td>\n",
       "      <td>0</td>\n",
       "      <td>0</td>\n",
       "      <td>0</td>\n",
       "      <td>0</td>\n",
       "      <td>0</td>\n",
       "    </tr>\n",
       "    <tr>\n",
       "      <th>1</th>\n",
       "      <td>2</td>\n",
       "      <td>0</td>\n",
       "      <td>0</td>\n",
       "      <td>0</td>\n",
       "      <td>0</td>\n",
       "      <td>0</td>\n",
       "      <td>0</td>\n",
       "      <td>1</td>\n",
       "      <td>0</td>\n",
       "      <td>0</td>\n",
       "      <td>...</td>\n",
       "      <td>0</td>\n",
       "      <td>0</td>\n",
       "      <td>0</td>\n",
       "      <td>0</td>\n",
       "      <td>0</td>\n",
       "      <td>0</td>\n",
       "      <td>0</td>\n",
       "      <td>0</td>\n",
       "      <td>0</td>\n",
       "      <td>0</td>\n",
       "    </tr>\n",
       "    <tr>\n",
       "      <th>2</th>\n",
       "      <td>3</td>\n",
       "      <td>0</td>\n",
       "      <td>1</td>\n",
       "      <td>0</td>\n",
       "      <td>0</td>\n",
       "      <td>1</td>\n",
       "      <td>0</td>\n",
       "      <td>0</td>\n",
       "      <td>1</td>\n",
       "      <td>1</td>\n",
       "      <td>...</td>\n",
       "      <td>0</td>\n",
       "      <td>0</td>\n",
       "      <td>0</td>\n",
       "      <td>0</td>\n",
       "      <td>0</td>\n",
       "      <td>0</td>\n",
       "      <td>0</td>\n",
       "      <td>0</td>\n",
       "      <td>0</td>\n",
       "      <td>0</td>\n",
       "    </tr>\n",
       "    <tr>\n",
       "      <th>3</th>\n",
       "      <td>4</td>\n",
       "      <td>0</td>\n",
       "      <td>1</td>\n",
       "      <td>1</td>\n",
       "      <td>0</td>\n",
       "      <td>0</td>\n",
       "      <td>0</td>\n",
       "      <td>0</td>\n",
       "      <td>0</td>\n",
       "      <td>0</td>\n",
       "      <td>...</td>\n",
       "      <td>0</td>\n",
       "      <td>0</td>\n",
       "      <td>0</td>\n",
       "      <td>0</td>\n",
       "      <td>0</td>\n",
       "      <td>0</td>\n",
       "      <td>0</td>\n",
       "      <td>0</td>\n",
       "      <td>0</td>\n",
       "      <td>0</td>\n",
       "    </tr>\n",
       "    <tr>\n",
       "      <th>4</th>\n",
       "      <td>5</td>\n",
       "      <td>0</td>\n",
       "      <td>0</td>\n",
       "      <td>0</td>\n",
       "      <td>0</td>\n",
       "      <td>1</td>\n",
       "      <td>0</td>\n",
       "      <td>0</td>\n",
       "      <td>0</td>\n",
       "      <td>0</td>\n",
       "      <td>...</td>\n",
       "      <td>0</td>\n",
       "      <td>0</td>\n",
       "      <td>0</td>\n",
       "      <td>0</td>\n",
       "      <td>0</td>\n",
       "      <td>0</td>\n",
       "      <td>0</td>\n",
       "      <td>0</td>\n",
       "      <td>0</td>\n",
       "      <td>0</td>\n",
       "    </tr>\n",
       "  </tbody>\n",
       "</table>\n",
       "<p>5 rows × 158 columns</p>\n",
       "</div>"
      ],
      "text/plain": [
       "   BGGId  Alliances  Area Majority / Influence  Auction/Bidding  Dice Rolling  \\\n",
       "0      1          1                          1                1             1   \n",
       "1      2          0                          0                0             0   \n",
       "2      3          0                          1                0             0   \n",
       "3      4          0                          1                1             0   \n",
       "4      5          0                          0                0             0   \n",
       "\n",
       "   Hand Management  Simultaneous Action Selection  Trick-taking  Hexagon Grid  \\\n",
       "0                1                              1             0             0   \n",
       "1                0                              0             1             0   \n",
       "2                1                              0             0             1   \n",
       "3                0                              0             0             0   \n",
       "4                1                              0             0             0   \n",
       "\n",
       "   Once-Per-Game Abilities  ...  Contracts  Passed Action Token  \\\n",
       "0                        0  ...          0                    0   \n",
       "1                        0  ...          0                    0   \n",
       "2                        1  ...          0                    0   \n",
       "3                        0  ...          0                    0   \n",
       "4                        0  ...          0                    0   \n",
       "\n",
       "   King of the Hill  Action Retrieval  Force Commitment  Rondel  \\\n",
       "0                 0                 0                 0       0   \n",
       "1                 0                 0                 0       0   \n",
       "2                 0                 0                 0       0   \n",
       "3                 0                 0                 0       0   \n",
       "4                 0                 0                 0       0   \n",
       "\n",
       "   Automatic Resource Growth  Legacy Game  Dexterity  Physical  \n",
       "0                          0            0          0         0  \n",
       "1                          0            0          0         0  \n",
       "2                          0            0          0         0  \n",
       "3                          0            0          0         0  \n",
       "4                          0            0          0         0  \n",
       "\n",
       "[5 rows x 158 columns]"
      ]
     },
     "execution_count": 235,
     "metadata": {},
     "output_type": "execute_result"
    }
   ],
   "source": [
    "#examining the data\n",
    "mechanics.head()"
   ]
  },
  {
   "cell_type": "code",
   "execution_count": 236,
   "id": "42231c1f",
   "metadata": {
    "ExecuteTime": {
     "end_time": "2023-04-10T18:56:04.208676Z",
     "start_time": "2023-04-10T18:56:04.193716Z"
    }
   },
   "outputs": [],
   "source": [
    "#limiting mechanics df to only games in our games dataframe\n",
    "mechanics = mechanics.loc[(mechanics['BGGId'].isin(id_list)==True)]"
   ]
  },
  {
   "cell_type": "code",
   "execution_count": 237,
   "id": "3fbc414b",
   "metadata": {
    "ExecuteTime": {
     "end_time": "2023-04-10T18:56:04.224633Z",
     "start_time": "2023-04-10T18:56:04.210671Z"
    }
   },
   "outputs": [],
   "source": [
    "#setting BGGId as the index\n",
    "games=games.set_index('BGGId')"
   ]
  },
  {
   "cell_type": "code",
   "execution_count": 238,
   "id": "c3b534f5",
   "metadata": {
    "ExecuteTime": {
     "end_time": "2023-04-10T18:56:04.240590Z",
     "start_time": "2023-04-10T18:56:04.226627Z"
    }
   },
   "outputs": [],
   "source": [
    "#merging the mechanics data onto the games data\n",
    "games = games.join(mechanics, on='BGGId', how='left')"
   ]
  },
  {
   "cell_type": "code",
   "execution_count": 239,
   "id": "004db901",
   "metadata": {
    "ExecuteTime": {
     "end_time": "2023-04-10T18:56:04.427091Z",
     "start_time": "2023-04-10T18:56:04.242585Z"
    }
   },
   "outputs": [],
   "source": [
    "#writing the games data to csv so that it can be used for a product based recommender\n",
    "games.to_csv('./data/recommender_data/product_data.csv')"
   ]
  },
  {
   "cell_type": "markdown",
   "id": "6298272b",
   "metadata": {},
   "source": [
    "# Ratings"
   ]
  },
  {
   "cell_type": "code",
   "execution_count": 240,
   "id": "a5e983f3",
   "metadata": {
    "ExecuteTime": {
     "end_time": "2023-04-10T18:56:13.960604Z",
     "start_time": "2023-04-10T18:56:04.428089Z"
    }
   },
   "outputs": [],
   "source": [
    "#reading in the data\n",
    "ratings = pd.read_csv('./data/user_ratings.csv')"
   ]
  },
  {
   "cell_type": "code",
   "execution_count": 241,
   "id": "d3a04de1",
   "metadata": {
    "ExecuteTime": {
     "end_time": "2023-04-10T18:56:14.975890Z",
     "start_time": "2023-04-10T18:56:13.961603Z"
    }
   },
   "outputs": [],
   "source": [
    "# limiting the ratings data to only games that meet our criteria\n",
    "ratings = ratings.loc[(ratings['BGGId'].isin(id_list)==True)]"
   ]
  },
  {
   "cell_type": "code",
   "execution_count": 242,
   "id": "f265eca9",
   "metadata": {
    "ExecuteTime": {
     "end_time": "2023-04-10T18:56:14.990851Z",
     "start_time": "2023-04-10T18:56:14.976888Z"
    }
   },
   "outputs": [
    {
     "data": {
      "text/plain": [
       "Index(['BGGId', 'Rating', 'Username'], dtype='object')"
      ]
     },
     "execution_count": 242,
     "metadata": {},
     "output_type": "execute_result"
    }
   ],
   "source": [
    "ratings.columns"
   ]
  },
  {
   "cell_type": "code",
   "execution_count": 243,
   "id": "241b89c4",
   "metadata": {
    "ExecuteTime": {
     "end_time": "2023-04-10T18:56:23.386406Z",
     "start_time": "2023-04-10T18:56:14.992845Z"
    }
   },
   "outputs": [
    {
     "name": "stdout",
     "output_type": "stream",
     "text": [
      "39851\n"
     ]
    }
   ],
   "source": [
    "# now we will limit our review data to only users that have reviewed 10\n",
    "# or more games\n",
    "\n",
    "#creating a dataframe that shows the number of ratings for each user\n",
    "total_ratings = pd.DataFrame(ratings.groupby('Username')['Rating'].count()).reset_index()\n",
    "\n",
    "#currently we have 396,765 users\n",
    "\n",
    "#getting a list of users with more than 30 games reviewed\n",
    "total_ratings = total_ratings[total_ratings['Rating']>=100]\n",
    "prolific_users = list(total_ratings['Username'])\n",
    "\n",
    "print(len(prolific_users))\n",
    "\n",
    "#using our list of prolific reviewers to filter our review dataset\n",
    "ratings = ratings.loc[(ratings['Username'].isin(prolific_users)==True)]"
   ]
  },
  {
   "cell_type": "code",
   "execution_count": 244,
   "id": "fb56eacc",
   "metadata": {
    "ExecuteTime": {
     "end_time": "2023-04-10T18:56:23.747440Z",
     "start_time": "2023-04-10T18:56:23.387404Z"
    }
   },
   "outputs": [],
   "source": [
    "#setting username as the index\n",
    "ratings = ratings.set_index('Username')"
   ]
  },
  {
   "cell_type": "code",
   "execution_count": 245,
   "id": "e960b052",
   "metadata": {
    "ExecuteTime": {
     "end_time": "2023-04-10T18:56:23.916995Z",
     "start_time": "2023-04-10T18:56:23.748439Z"
    }
   },
   "outputs": [],
   "source": [
    "ratings = ratings.reset_index()"
   ]
  },
  {
   "cell_type": "code",
   "execution_count": 246,
   "id": "e053ea96",
   "metadata": {
    "ExecuteTime": {
     "end_time": "2023-04-10T18:56:24.105483Z",
     "start_time": "2023-04-10T18:56:23.917998Z"
    }
   },
   "outputs": [],
   "source": [
    "ratings = ratings.set_index('BGGId')"
   ]
  },
  {
   "cell_type": "code",
   "execution_count": 247,
   "id": "c4f15f23",
   "metadata": {
    "ExecuteTime": {
     "end_time": "2023-04-10T18:56:24.120443Z",
     "start_time": "2023-04-10T18:56:24.106481Z"
    }
   },
   "outputs": [],
   "source": [
    "# ratings.T"
   ]
  },
  {
   "cell_type": "code",
   "execution_count": 248,
   "id": "f0647f35",
   "metadata": {
    "ExecuteTime": {
     "end_time": "2023-04-10T18:56:24.136401Z",
     "start_time": "2023-04-10T18:56:24.121441Z"
    },
    "scrolled": true
   },
   "outputs": [
    {
     "data": {
      "text/html": [
       "<div>\n",
       "<style scoped>\n",
       "    .dataframe tbody tr th:only-of-type {\n",
       "        vertical-align: middle;\n",
       "    }\n",
       "\n",
       "    .dataframe tbody tr th {\n",
       "        vertical-align: top;\n",
       "    }\n",
       "\n",
       "    .dataframe thead th {\n",
       "        text-align: right;\n",
       "    }\n",
       "</style>\n",
       "<table border=\"1\" class=\"dataframe\">\n",
       "  <thead>\n",
       "    <tr style=\"text-align: right;\">\n",
       "      <th></th>\n",
       "      <th>Username</th>\n",
       "      <th>Rating</th>\n",
       "    </tr>\n",
       "    <tr>\n",
       "      <th>BGGId</th>\n",
       "      <th></th>\n",
       "      <th></th>\n",
       "    </tr>\n",
       "  </thead>\n",
       "  <tbody>\n",
       "    <tr>\n",
       "      <th>30549</th>\n",
       "      <td>robvw</td>\n",
       "      <td>4.0</td>\n",
       "    </tr>\n",
       "    <tr>\n",
       "      <th>30549</th>\n",
       "      <td>bigcrab</td>\n",
       "      <td>4.0</td>\n",
       "    </tr>\n",
       "    <tr>\n",
       "      <th>30549</th>\n",
       "      <td>ubuntu_tyler</td>\n",
       "      <td>4.0</td>\n",
       "    </tr>\n",
       "    <tr>\n",
       "      <th>30549</th>\n",
       "      <td>Kbj032</td>\n",
       "      <td>4.0</td>\n",
       "    </tr>\n",
       "    <tr>\n",
       "      <th>30549</th>\n",
       "      <td>Dockstreet9</td>\n",
       "      <td>4.0</td>\n",
       "    </tr>\n",
       "    <tr>\n",
       "      <th>...</th>\n",
       "      <td>...</td>\n",
       "      <td>...</td>\n",
       "    </tr>\n",
       "    <tr>\n",
       "      <th>28086</th>\n",
       "      <td>grandslam</td>\n",
       "      <td>7.0</td>\n",
       "    </tr>\n",
       "    <tr>\n",
       "      <th>28086</th>\n",
       "      <td>montsegur</td>\n",
       "      <td>7.0</td>\n",
       "    </tr>\n",
       "    <tr>\n",
       "      <th>28086</th>\n",
       "      <td>operamang</td>\n",
       "      <td>7.0</td>\n",
       "    </tr>\n",
       "    <tr>\n",
       "      <th>28086</th>\n",
       "      <td>Larry Welborn</td>\n",
       "      <td>7.0</td>\n",
       "    </tr>\n",
       "    <tr>\n",
       "      <th>28086</th>\n",
       "      <td>jjrbedford</td>\n",
       "      <td>7.0</td>\n",
       "    </tr>\n",
       "  </tbody>\n",
       "</table>\n",
       "<p>8721893 rows × 2 columns</p>\n",
       "</div>"
      ],
      "text/plain": [
       "            Username  Rating\n",
       "BGGId                       \n",
       "30549          robvw     4.0\n",
       "30549        bigcrab     4.0\n",
       "30549   ubuntu_tyler     4.0\n",
       "30549         Kbj032     4.0\n",
       "30549    Dockstreet9     4.0\n",
       "...              ...     ...\n",
       "28086      grandslam     7.0\n",
       "28086      montsegur     7.0\n",
       "28086      operamang     7.0\n",
       "28086  Larry Welborn     7.0\n",
       "28086     jjrbedford     7.0\n",
       "\n",
       "[8721893 rows x 2 columns]"
      ]
     },
     "execution_count": 248,
     "metadata": {},
     "output_type": "execute_result"
    }
   ],
   "source": [
    "ratings"
   ]
  },
  {
   "cell_type": "code",
   "execution_count": 249,
   "id": "3d221d15",
   "metadata": {
    "ExecuteTime": {
     "end_time": "2023-04-10T18:56:24.246107Z",
     "start_time": "2023-04-10T18:56:24.137399Z"
    }
   },
   "outputs": [],
   "source": [
    "ratings = ratings.reset_index()"
   ]
  },
  {
   "cell_type": "code",
   "execution_count": 250,
   "id": "6402464d",
   "metadata": {
    "ExecuteTime": {
     "end_time": "2023-04-10T18:56:24.262065Z",
     "start_time": "2023-04-10T18:56:24.247105Z"
    }
   },
   "outputs": [
    {
     "data": {
      "text/plain": [
       "(8721893, 3)"
      ]
     },
     "execution_count": 250,
     "metadata": {},
     "output_type": "execute_result"
    }
   ],
   "source": [
    "ratings.shape"
   ]
  },
  {
   "cell_type": "code",
   "execution_count": 251,
   "id": "2c06ef4b",
   "metadata": {
    "ExecuteTime": {
     "end_time": "2023-04-10T18:56:24.277025Z",
     "start_time": "2023-04-10T18:56:24.263063Z"
    }
   },
   "outputs": [
    {
     "data": {
      "text/plain": [
       "(2893, 167)"
      ]
     },
     "execution_count": 251,
     "metadata": {},
     "output_type": "execute_result"
    }
   ],
   "source": [
    "games.shape"
   ]
  },
  {
   "cell_type": "code",
   "execution_count": 252,
   "id": "7ef5659f",
   "metadata": {
    "ExecuteTime": {
     "end_time": "2023-04-10T18:56:35.211792Z",
     "start_time": "2023-04-10T18:56:24.278024Z"
    }
   },
   "outputs": [],
   "source": [
    "ratings = ratings.pivot_table(index='BGGId', columns='Username', values='Rating')"
   ]
  },
  {
   "cell_type": "code",
   "execution_count": 253,
   "id": "07156644",
   "metadata": {
    "ExecuteTime": {
     "end_time": "2023-04-10T18:56:35.226752Z",
     "start_time": "2023-04-10T18:56:35.212791Z"
    }
   },
   "outputs": [
    {
     "data": {
      "text/plain": [
       "(2893, 39851)"
      ]
     },
     "execution_count": 253,
     "metadata": {},
     "output_type": "execute_result"
    }
   ],
   "source": [
    "ratings.shape"
   ]
  },
  {
   "cell_type": "code",
   "execution_count": 254,
   "id": "c96419c2",
   "metadata": {
    "ExecuteTime": {
     "end_time": "2023-04-10T18:59:00.759690Z",
     "start_time": "2023-04-10T18:56:35.227750Z"
    }
   },
   "outputs": [],
   "source": [
    "ratings.to_csv('./data/recommender_data/rating_data.csv')"
   ]
  },
  {
   "cell_type": "code",
   "execution_count": 255,
   "id": "303662ae",
   "metadata": {
    "ExecuteTime": {
     "end_time": "2023-04-10T18:59:00.774650Z",
     "start_time": "2023-04-10T18:59:00.760687Z"
    }
   },
   "outputs": [],
   "source": [
    "#limiting the image path data to only the board games we care about\n",
    "cover_art = cover_art.loc[(cover_art['BGGId'].isin(id_list)==True)]"
   ]
  },
  {
   "cell_type": "code",
   "execution_count": 256,
   "id": "fc69ce08",
   "metadata": {
    "ExecuteTime": {
     "end_time": "2023-04-10T18:59:00.806564Z",
     "start_time": "2023-04-10T18:59:00.775648Z"
    }
   },
   "outputs": [],
   "source": [
    "cover_art.to_csv('./data/cover_art.csv')"
   ]
  },
  {
   "cell_type": "code",
   "execution_count": 257,
   "id": "25aeaa9b",
   "metadata": {
    "ExecuteTime": {
     "end_time": "2023-04-10T18:59:00.979103Z",
     "start_time": "2023-04-10T18:59:00.807563Z"
    }
   },
   "outputs": [],
   "source": [
    "games.to_csv('./data/recommender_data/product_data.csv')"
   ]
  }
 ],
 "metadata": {
  "kernelspec": {
   "display_name": "Python 3",
   "language": "python",
   "name": "python3"
  },
  "language_info": {
   "codemirror_mode": {
    "name": "ipython",
    "version": 3
   },
   "file_extension": ".py",
   "mimetype": "text/x-python",
   "name": "python",
   "nbconvert_exporter": "python",
   "pygments_lexer": "ipython3",
   "version": "3.8.8"
  }
 },
 "nbformat": 4,
 "nbformat_minor": 5
}
